{
 "cells": [
  {
   "attachments": {},
   "cell_type": "markdown",
   "metadata": {},
   "source": [
    "# Testing Scenarios"
   ]
  },
  {
   "cell_type": "code",
   "execution_count": 1,
   "metadata": {},
   "outputs": [
    {
     "name": "stdout",
     "output_type": "stream",
     "text": [
      "Congratulations, you've successfully installed the Monte Carlo Simulator package.\n"
     ]
    }
   ],
   "source": [
    "from mcs_pkg.montecarlo import Die, Game, Analyzer\n"
   ]
  },
  {
   "attachments": {},
   "cell_type": "markdown",
   "metadata": {},
   "source": [
    "## Scenario 1: A 2-headed coin\n",
    "\n",
    "For each game, we will use an Analyzer object to determine the relative frequency of jackpots – getting either all Hs or all Ts. Compute relative frequency as the number of jackpots over the total number of rolls. Show your results, comparing the two relative frequencies, in a simple bar chart."
   ]
  },
  {
   "cell_type": "code",
   "execution_count": 2,
   "metadata": {},
   "outputs": [
    {
     "data": {
      "text/html": [
       "<div>\n",
       "<style scoped>\n",
       "    .dataframe tbody tr th:only-of-type {\n",
       "        vertical-align: middle;\n",
       "    }\n",
       "\n",
       "    .dataframe tbody tr th {\n",
       "        vertical-align: top;\n",
       "    }\n",
       "\n",
       "    .dataframe thead th {\n",
       "        text-align: right;\n",
       "    }\n",
       "</style>\n",
       "<table border=\"1\" class=\"dataframe\">\n",
       "  <thead>\n",
       "    <tr style=\"text-align: right;\">\n",
       "      <th></th>\n",
       "      <th>count</th>\n",
       "    </tr>\n",
       "  </thead>\n",
       "  <tbody>\n",
       "    <tr>\n",
       "      <th>no_jackpot</th>\n",
       "      <td>0.495</td>\n",
       "    </tr>\n",
       "    <tr>\n",
       "      <th>jackpot</th>\n",
       "      <td>0.505</td>\n",
       "    </tr>\n",
       "  </tbody>\n",
       "</table>\n",
       "</div>"
      ],
      "text/plain": [
       "            count\n",
       "no_jackpot  0.495\n",
       "jackpot     0.505"
      ]
     },
     "execution_count": 2,
     "metadata": {},
     "output_type": "execute_result"
    }
   ],
   "source": [
    "# Setup: A fair coin (with faces H and T) and one unfair coin, \n",
    "# in which one of the faces has a weight of 5 and the others 1.\n",
    "fair_coin = Die(['H', 'T'])\n",
    "unfair_coin = Die(['H', 'T'])\n",
    "unfair_coin.change_weight('H', 5)\n",
    "\n",
    "# Here's a game of 1000 flips with all fair coins.\n",
    "fairgame = Game([fair_coin, fair_coin])\n",
    "fairgame.play(1000)\n",
    "fairgame_analyzer = Analyzer(fairgame)\n",
    "fairgame_jackpot = fairgame_analyzer.count_jackpots()\n",
    "fairgame_flips = fairgame.results.shape[0]\n",
    "fairgame_jackpot\n",
    "fairgame_flips\n",
    "fairgame_freq = fairgame_jackpot / fairgame_flips\n",
    "fairgame_freq\n"
   ]
  },
  {
   "cell_type": "code",
   "execution_count": 3,
   "metadata": {},
   "outputs": [
    {
     "data": {
      "text/html": [
       "<div>\n",
       "<style scoped>\n",
       "    .dataframe tbody tr th:only-of-type {\n",
       "        vertical-align: middle;\n",
       "    }\n",
       "\n",
       "    .dataframe tbody tr th {\n",
       "        vertical-align: top;\n",
       "    }\n",
       "\n",
       "    .dataframe thead th {\n",
       "        text-align: right;\n",
       "    }\n",
       "</style>\n",
       "<table border=\"1\" class=\"dataframe\">\n",
       "  <thead>\n",
       "    <tr style=\"text-align: right;\">\n",
       "      <th></th>\n",
       "      <th>count</th>\n",
       "    </tr>\n",
       "  </thead>\n",
       "  <tbody>\n",
       "    <tr>\n",
       "      <th>no_jackpot</th>\n",
       "      <td>0.634</td>\n",
       "    </tr>\n",
       "    <tr>\n",
       "      <th>jackpot</th>\n",
       "      <td>0.366</td>\n",
       "    </tr>\n",
       "  </tbody>\n",
       "</table>\n",
       "</div>"
      ],
      "text/plain": [
       "            count\n",
       "no_jackpot  0.634\n",
       "jackpot     0.366"
      ]
     },
     "execution_count": 3,
     "metadata": {},
     "output_type": "execute_result"
    }
   ],
   "source": [
    "# A game of 1000 flips with two unfair dice and one fair die.\n",
    "fairunfair = Game([fair_coin, unfair_coin, unfair_coin])\n",
    "fairunfair.play(1000)\n",
    "fairunfair_analyzer = Analyzer(fairunfair)\n",
    "fairunfair_jackpot = fairunfair_analyzer.count_jackpots()\n",
    "fairunfair_flips = fairunfair.results.shape[0]\n",
    "fairunfair_freq = fairunfair_jackpot / fairunfair_flips\n",
    "fairunfair_freq\n"
   ]
  },
  {
   "cell_type": "code",
   "execution_count": 5,
   "metadata": {},
   "outputs": [
    {
     "data": {
      "image/png": "[encoded data removed]",
      "text/plain": [
       "<Figure size 640x480 with 1 Axes>"
      ]
     },
     "metadata": {},
     "output_type": "display_data"
    }
   ],
   "source": [
    "import matplotlib.pyplot as plt\n",
    "\n",
    "fairgame_freq_value = fairgame_freq.iloc[1,0]\n",
    "fairunfair_freq_value = fairunfair_freq.iloc[1,0]\n",
    "\n",
    "labels = ['Fair Game', 'Fair/Unfair Game']\n",
    "values = [fairgame_freq_value, fairunfair_freq_value]\n",
    "plt.bar(labels, values)\n",
    "plt.ylabel('Relative Frequency of Jackpots')\n",
    "plt.show()"
   ]
  },
  {
   "attachments": {},
   "cell_type": "markdown",
   "metadata": {},
   "source": [
    "## Scenario 2: A 6-sided die\n",
    "\n",
    "For each game, use an Analyzer object to determine the relative frequency of jackpots and show your results, comparing the two relative frequencies, in a simple bar chart."
   ]
  },
  {
   "cell_type": "code",
   "execution_count": 6,
   "metadata": {},
   "outputs": [
    {
     "data": {
      "text/html": [
       "<div>\n",
       "<style scoped>\n",
       "    .dataframe tbody tr th:only-of-type {\n",
       "        vertical-align: middle;\n",
       "    }\n",
       "\n",
       "    .dataframe tbody tr th {\n",
       "        vertical-align: top;\n",
       "    }\n",
       "\n",
       "    .dataframe thead th {\n",
       "        text-align: right;\n",
       "    }\n",
       "</style>\n",
       "<table border=\"1\" class=\"dataframe\">\n",
       "  <thead>\n",
       "    <tr style=\"text-align: right;\">\n",
       "      <th></th>\n",
       "      <th>count</th>\n",
       "    </tr>\n",
       "  </thead>\n",
       "  <tbody>\n",
       "    <tr>\n",
       "      <th>no_jackpot</th>\n",
       "      <td>0.9992</td>\n",
       "    </tr>\n",
       "    <tr>\n",
       "      <th>jackpot</th>\n",
       "      <td>0.0008</td>\n",
       "    </tr>\n",
       "  </tbody>\n",
       "</table>\n",
       "</div>"
      ],
      "text/plain": [
       "             count\n",
       "no_jackpot  0.9992\n",
       "jackpot     0.0008"
      ]
     },
     "execution_count": 6,
     "metadata": {},
     "output_type": "execute_result"
    }
   ],
   "source": [
    "# Setup: A fair die and two unfair dice, all of six sides with the\n",
    "# faces 1 through 6. One unfair die (Type 1) will weight 6 five\n",
    "# times more than the others (i.e. it has weight of 5 and the\n",
    "# others a weight of 1 each). The other unfair die (Type 2)\n",
    "# will weight 1 five times more than the others.\n",
    "\n",
    "fair_die = Die([1,2,3,4,5,6])\n",
    "unfair_die1 = Die([1,2,3,4,5,6])\n",
    "unfair_die1.change_weight(6, 5)\n",
    "unfair_die2 = Die([1,2,3,4,5,6])\n",
    "unfair_die2.change_weight(1, 5)\n",
    "\n",
    "# Game 1: 10,000 rolls with five fair dice.\n",
    "game1 = Game([fair_die, fair_die, fair_die, fair_die, fair_die])\n",
    "game1.play(10000)\n",
    "game1_analyzer = Analyzer(game1)\n",
    "game1_jackpot = game1_analyzer.count_jackpots()\n",
    "game1_flips = game1.results.shape[0]\n",
    "game1_freq = game1_jackpot / game1_flips\n",
    "game1_freq\n",
    "\n",
    "\n"
   ]
  },
  {
   "cell_type": "code",
   "execution_count": 7,
   "metadata": {},
   "outputs": [
    {
     "data": {
      "text/html": [
       "<div>\n",
       "<style scoped>\n",
       "    .dataframe tbody tr th:only-of-type {\n",
       "        vertical-align: middle;\n",
       "    }\n",
       "\n",
       "    .dataframe tbody tr th {\n",
       "        vertical-align: top;\n",
       "    }\n",
       "\n",
       "    .dataframe thead th {\n",
       "        text-align: right;\n",
       "    }\n",
       "</style>\n",
       "<table border=\"1\" class=\"dataframe\">\n",
       "  <thead>\n",
       "    <tr style=\"text-align: right;\">\n",
       "      <th></th>\n",
       "      <th>count</th>\n",
       "    </tr>\n",
       "  </thead>\n",
       "  <tbody>\n",
       "    <tr>\n",
       "      <th>no_jackpot</th>\n",
       "      <td>0.9987</td>\n",
       "    </tr>\n",
       "    <tr>\n",
       "      <th>jackpot</th>\n",
       "      <td>0.0013</td>\n",
       "    </tr>\n",
       "  </tbody>\n",
       "</table>\n",
       "</div>"
      ],
      "text/plain": [
       "             count\n",
       "no_jackpot  0.9987\n",
       "jackpot     0.0013"
      ]
     },
     "execution_count": 7,
     "metadata": {},
     "output_type": "execute_result"
    }
   ],
   "source": [
    "# Game 2: 10,000 rolls with 2 unfair dice of type 1, 1 unfair dice of type 2, and the rest fair dice.\n",
    "game2 = Game([unfair_die1, unfair_die1, unfair_die2, fair_die, fair_die])\n",
    "game2.play(10000)\n",
    "game2_analyzer = Analyzer(game2)\n",
    "game2_jackpot = game2_analyzer.count_jackpots()\n",
    "game2_flips = game2.results.shape[0]\n",
    "game2_freq = game2_jackpot / game2_flips\n",
    "game2_freq"
   ]
  },
  {
   "cell_type": "code",
   "execution_count": 8,
   "metadata": {},
   "outputs": [
    {
     "data": {
      "image/png": "[encoded data removed]",
      "text/plain": [
       "<Figure size 640x480 with 1 Axes>"
      ]
     },
     "metadata": {},
     "output_type": "display_data"
    }
   ],
   "source": [
    "game1_freq_value = game1_freq.iloc[1,0]\n",
    "game2_freq_value = game2_freq.iloc[1,0]\n",
    "\n",
    "labels = ['Game 1', 'Game 2']\n",
    "values = [game1_freq_value, game2_freq_value]\n",
    "plt.bar(labels, values)\n",
    "plt.ylabel('Relative Frequency of Jackpots')\n",
    "plt.show()"
   ]
  },
  {
   "attachments": {},
   "cell_type": "markdown",
   "metadata": {},
   "source": [
    "## Scendario 3: Letters of the Roman Alphabet"
   ]
  },
  {
   "cell_type": "code",
   "execution_count": 10,
   "metadata": {},
   "outputs": [
    {
     "name": "stdout",
     "output_type": "stream",
     "text": [
      "    die_1 die_2 die_3 die_4 die_5\n",
      "0       E     D     N     M     A\n",
      "1       E     N     O     E     R\n",
      "2       C     N     P     F     I\n",
      "3       H     A     U     N     S\n",
      "4       N     H     D     S     H\n",
      "..    ...   ...   ...   ...   ...\n",
      "995     N     O     C     T     I\n",
      "996     E     A     R     U     R\n",
      "997     S     C     D     K     U\n",
      "998     P     L     L     I     E\n",
      "999     E     V     S     A     A\n",
      "\n",
      "[1000 rows x 5 columns]\n"
     ]
    }
   ],
   "source": [
    "#Create the alphabet dice\n",
    "alpha_die = Die(['A', 'B', 'C', 'D', 'E', 'F', 'G', 'H', 'I', 'J', 'K', 'L', 'M', 'N', 'O', 'P', 'Q', 'R', 'S', 'T', 'U', 'V', 'W', 'X', 'Y', 'Z'])\n",
    "alpha_die.change_weight('A', 8.4966)\n",
    "alpha_die.change_weight('B', 2.0720)\n",
    "alpha_die.change_weight('C', 4.5388)\n",
    "alpha_die.change_weight('D', 3.3844)\n",
    "alpha_die.change_weight('E', 11.1607)\n",
    "alpha_die.change_weight('F', 1.8121)\n",
    "alpha_die.change_weight('G', 2.4705)\n",
    "alpha_die.change_weight('H', 3.0034)\n",
    "alpha_die.change_weight('I', 7.5448)\n",
    "alpha_die.change_weight('J', 0.1965)\n",
    "alpha_die.change_weight('K', 1.1016)\n",
    "alpha_die.change_weight('L', 5.4893)\n",
    "alpha_die.change_weight('M', 3.0129)\n",
    "alpha_die.change_weight('N', 6.6544)\n",
    "alpha_die.change_weight('O', 7.1635)\n",
    "alpha_die.change_weight('P', 3.1671)\n",
    "alpha_die.change_weight('Q', 0.1962)\n",
    "alpha_die.change_weight('R', 7.5809)\n",
    "alpha_die.change_weight('S', 5.7351)\n",
    "alpha_die.change_weight('T', 6.9509)\n",
    "alpha_die.change_weight('U', 3.6308)\n",
    "alpha_die.change_weight('V', 1.0074)\n",
    "alpha_die.change_weight('W', 1.2899)\n",
    "alpha_die.change_weight('X', 0.2902)\n",
    "alpha_die.change_weight('Y', 1.7779)\n",
    "alpha_die.change_weight('Z', 0.2722)\n",
    "\n",
    "# Play a game with 5 alphabet dice and roll them 1000 times\n",
    "alpha_game = Game([alpha_die, alpha_die, alpha_die, alpha_die, alpha_die])\n",
    "alpha_game.play(1000)\n",
    "alpha_game_analyzer = Analyzer(alpha_game)\n",
    "alpha_game.show()\n",
    "\n"
   ]
  },
  {
   "cell_type": "code",
   "execution_count": 11,
   "metadata": {},
   "outputs": [],
   "source": [
    "# View results df in Data Viewer\n",
    "df = alpha_game.results"
   ]
  },
  {
   "cell_type": "code",
   "execution_count": 12,
   "metadata": {},
   "outputs": [
    {
     "data": {
      "image/png": "[encoded data removed]",
      "text/plain": [
       "<Figure size 640x480 with 1 Axes>"
      ]
     },
     "metadata": {},
     "output_type": "display_data"
    }
   ],
   "source": [
    "# Number of words (or close enough to words) and non-words found in results\n",
    "words = 2\n",
    "nonwords = 1000 - words\n",
    "\n",
    "# Calculate relative frequency of words vs the rest of the results\n",
    "words / nonwords\n",
    "\n",
    "freq_words = words / (words + nonwords)\n",
    "freq_nonwords = nonwords / (words + nonwords)\n",
    "\n",
    "labels = ['Words', 'Non-Words']\n",
    "values = [freq_words, freq_nonwords]\n",
    "plt.bar(labels, values)\n",
    "plt.ylabel('Relative Frequency of Words vs Non-Words')\n",
    "plt.show()"
   ]
  }
 ],
 "metadata": {
  "kernelspec": {
   "display_name": "base",
   "language": "python",
   "name": "python3"
  },
  "language_info": {
   "codemirror_mode": {
    "name": "ipython",
    "version": 3
   },
   "file_extension": ".py",
   "mimetype": "text/x-python",
   "name": "python",
   "nbconvert_exporter": "python",
   "pygments_lexer": "ipython3",
   "version": "3.9.2"
  },
  "orig_nbformat": 4
 },
 "nbformat": 4,
 "nbformat_minor": 2
}
