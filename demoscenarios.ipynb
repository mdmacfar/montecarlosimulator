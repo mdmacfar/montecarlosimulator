{
 "cells": [
  {
   "attachments": {},
   "cell_type": "markdown",
   "metadata": {},
   "source": [
    "# Scenario 1: A 2-headed coin\n",
    "\n",
    "For each game, we will use an Analyzer object to determine the relative frequency of jackpots – getting either all Hs or all Ts. Compute relative frequency as the number of jackpots over the total number of rolls. Show your results, comparing the two relative frequencies, in a simple bar chart."
   ]
  },
  {
   "cell_type": "code",
   "execution_count": null,
   "metadata": {},
   "outputs": [],
   "source": [
    "# A fair coin (with faces H and T) and one unfair coin, \n",
    "# in which one of the faces has a weight of 5 and the others 1.\n"
   ]
  },
  {
   "cell_type": "code",
   "execution_count": null,
   "metadata": {},
   "outputs": [],
   "source": [
    "# A game of 1000 flips with all fair dice.\n"
   ]
  },
  {
   "cell_type": "code",
   "execution_count": null,
   "metadata": {},
   "outputs": [],
   "source": [
    "# A game of 1000 flips with two unfair dice and one fair die."
   ]
  }
 ],
 "metadata": {
  "language_info": {
   "name": "python"
  },
  "orig_nbformat": 4
 },
 "nbformat": 4,
 "nbformat_minor": 2
}
