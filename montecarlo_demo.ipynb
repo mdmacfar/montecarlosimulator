{
 "cells": [
  {
   "attachments": {},
   "cell_type": "markdown",
   "metadata": {},
   "source": [
    "# Metadata\n",
    "\n",
    "Class: DS5100\n",
    "\n",
    "Date: May 2023\n",
    "\n",
    "Student Name: Michael Macfarlan\n",
    "\n",
    "Student ID: zxr5fv\n",
    "\n",
    "This URL: https://github.com/mdmacfar/montecarlosimulator/blob/main/montecarlo_demo.ipynb\n",
    "\n",
    "Github Repo URL: https://github.com/mdmacfar/montecarlosimulator\n"
   ]
  },
  {
   "attachments": {},
   "cell_type": "markdown",
   "metadata": {},
   "source": [
    "# Testing Scenarios"
   ]
  },
  {
   "cell_type": "code",
   "execution_count": 67,
   "metadata": {},
   "outputs": [],
   "source": [
    "from mcs_pkg.montecarlo import Die, Game, Analyzer"
   ]
  },
  {
   "attachments": {},
   "cell_type": "markdown",
   "metadata": {},
   "source": [
    "## Scenario 1: A 2-headed coin\n",
    "\n",
    "For each game, we will use an Analyzer object to determine the relative frequency of jackpots – getting either all Hs or all Ts. Compute relative frequency as the number of jackpots over the total number of rolls. Show your results, comparing the two relative frequencies, in a simple bar chart."
   ]
  },
  {
   "cell_type": "code",
   "execution_count": 68,
   "metadata": {},
   "outputs": [
    {
     "data": {
      "text/html": [
       "<div>\n",
       "<style scoped>\n",
       "    .dataframe tbody tr th:only-of-type {\n",
       "        vertical-align: middle;\n",
       "    }\n",
       "\n",
       "    .dataframe tbody tr th {\n",
       "        vertical-align: top;\n",
       "    }\n",
       "\n",
       "    .dataframe thead th {\n",
       "        text-align: right;\n",
       "    }\n",
       "</style>\n",
       "<table border=\"1\" class=\"dataframe\">\n",
       "  <thead>\n",
       "    <tr style=\"text-align: right;\">\n",
       "      <th></th>\n",
       "      <th>count</th>\n",
       "    </tr>\n",
       "  </thead>\n",
       "  <tbody>\n",
       "    <tr>\n",
       "      <th>no_jackpot</th>\n",
       "      <td>0.474</td>\n",
       "    </tr>\n",
       "    <tr>\n",
       "      <th>jackpot</th>\n",
       "      <td>0.526</td>\n",
       "    </tr>\n",
       "  </tbody>\n",
       "</table>\n",
       "</div>"
      ],
      "text/plain": [
       "            count\n",
       "no_jackpot  0.474\n",
       "jackpot     0.526"
      ]
     },
     "execution_count": 68,
     "metadata": {},
     "output_type": "execute_result"
    }
   ],
   "source": [
    "# Setup: A fair coin (with faces H and T) and one unfair coin, \n",
    "# in which one of the faces has a weight of 5 and the others 1.\n",
    "fair_coin = Die(['H', 'T'])\n",
    "unfair_coin = Die(['H', 'T'])\n",
    "unfair_coin.change_weight('H', 5)\n",
    "\n",
    "# Here's a game of 1000 flips with all fair coins.\n",
    "fairgame = Game([fair_coin, fair_coin])\n",
    "fairgame.play(1000)\n",
    "fairgame_analyzer = Analyzer(fairgame)\n",
    "fairgame_jackpot = fairgame_analyzer.count_jackpots()\n",
    "fairgame_flips = fairgame.results.shape[0]\n",
    "fairgame_jackpot\n",
    "fairgame_flips\n",
    "fairgame_freq = fairgame_jackpot / fairgame_flips\n",
    "fairgame_freq\n"
   ]
  },
  {
   "cell_type": "code",
   "execution_count": 69,
   "metadata": {},
   "outputs": [
    {
     "name": "stdout",
     "output_type": "stream",
     "text": [
      "    die_1 die_2\n",
      "0       T     H\n",
      "1       H     T\n",
      "2       H     H\n",
      "3       H     H\n",
      "4       H     H\n",
      "..    ...   ...\n",
      "995     T     T\n",
      "996     H     H\n",
      "997     T     T\n",
      "998     H     H\n",
      "999     H     H\n",
      "\n",
      "[1000 rows x 2 columns]\n"
     ]
    }
   ],
   "source": [
    "fairgame.show()"
   ]
  },
  {
   "cell_type": "code",
   "execution_count": 70,
   "metadata": {},
   "outputs": [
    {
     "data": {
      "text/html": [
       "<div>\n",
       "<style scoped>\n",
       "    .dataframe tbody tr th:only-of-type {\n",
       "        vertical-align: middle;\n",
       "    }\n",
       "\n",
       "    .dataframe tbody tr th {\n",
       "        vertical-align: top;\n",
       "    }\n",
       "\n",
       "    .dataframe thead th {\n",
       "        text-align: right;\n",
       "    }\n",
       "</style>\n",
       "<table border=\"1\" class=\"dataframe\">\n",
       "  <thead>\n",
       "    <tr style=\"text-align: right;\">\n",
       "      <th></th>\n",
       "      <th>count</th>\n",
       "    </tr>\n",
       "  </thead>\n",
       "  <tbody>\n",
       "    <tr>\n",
       "      <th>no_jackpot</th>\n",
       "      <td>0.672</td>\n",
       "    </tr>\n",
       "    <tr>\n",
       "      <th>jackpot</th>\n",
       "      <td>0.328</td>\n",
       "    </tr>\n",
       "  </tbody>\n",
       "</table>\n",
       "</div>"
      ],
      "text/plain": [
       "            count\n",
       "no_jackpot  0.672\n",
       "jackpot     0.328"
      ]
     },
     "execution_count": 70,
     "metadata": {},
     "output_type": "execute_result"
    }
   ],
   "source": [
    "# A game of 1000 flips with two unfair dice and one fair die.\n",
    "fairunfair = Game([fair_coin, unfair_coin, unfair_coin])\n",
    "fairunfair.play(1000)\n",
    "fairunfair_analyzer = Analyzer(fairunfair)\n",
    "fairunfair_jackpot = fairunfair_analyzer.count_jackpots()\n",
    "fairunfair_flips = fairunfair.results.shape[0]\n",
    "fairunfair_freq = fairunfair_jackpot / fairunfair_flips\n",
    "fairunfair_freq\n"
   ]
  },
  {
   "cell_type": "code",
   "execution_count": 71,
   "metadata": {},
   "outputs": [
    {
     "name": "stdout",
     "output_type": "stream",
     "text": [
      "    die_1 die_2 die_3\n",
      "0       T     H     H\n",
      "1       H     H     H\n",
      "2       H     H     H\n",
      "3       T     H     H\n",
      "4       T     H     H\n",
      "..    ...   ...   ...\n",
      "995     T     H     H\n",
      "996     H     T     T\n",
      "997     H     H     H\n",
      "998     H     H     H\n",
      "999     H     H     H\n",
      "\n",
      "[1000 rows x 3 columns]\n"
     ]
    }
   ],
   "source": [
    "fairunfair.show()"
   ]
  },
  {
   "cell_type": "code",
   "execution_count": 72,
   "metadata": {},
   "outputs": [
    {
     "data": {
      "image/png": "[encoded data removed]",
      "text/plain": [
       "<Figure size 640x480 with 1 Axes>"
      ]
     },
     "metadata": {},
     "output_type": "display_data"
    }
   ],
   "source": [
    "import matplotlib.pyplot as plt\n",
    "\n",
    "fairgame_freq_value = fairgame_freq.iloc[1,0]\n",
    "fairunfair_freq_value = fairunfair_freq.iloc[1,0]\n",
    "\n",
    "labels = ['Fair Game', 'Fair/Unfair Game']\n",
    "values = [fairgame_freq_value, fairunfair_freq_value]\n",
    "plt.bar(labels, values)\n",
    "plt.ylabel('Relative Frequency of Jackpots')\n",
    "plt.show()"
   ]
  },
  {
   "attachments": {},
   "cell_type": "markdown",
   "metadata": {},
   "source": [
    "## Scenario 2: A 6-sided die\n",
    "\n",
    "For each game, use an Analyzer object to determine the relative frequency of jackpots and show your results, comparing the two relative frequencies, in a simple bar chart."
   ]
  },
  {
   "cell_type": "code",
   "execution_count": 73,
   "metadata": {},
   "outputs": [
    {
     "data": {
      "text/html": [
       "<div>\n",
       "<style scoped>\n",
       "    .dataframe tbody tr th:only-of-type {\n",
       "        vertical-align: middle;\n",
       "    }\n",
       "\n",
       "    .dataframe tbody tr th {\n",
       "        vertical-align: top;\n",
       "    }\n",
       "\n",
       "    .dataframe thead th {\n",
       "        text-align: right;\n",
       "    }\n",
       "</style>\n",
       "<table border=\"1\" class=\"dataframe\">\n",
       "  <thead>\n",
       "    <tr style=\"text-align: right;\">\n",
       "      <th></th>\n",
       "      <th>count</th>\n",
       "    </tr>\n",
       "  </thead>\n",
       "  <tbody>\n",
       "    <tr>\n",
       "      <th>no_jackpot</th>\n",
       "      <td>0.9991</td>\n",
       "    </tr>\n",
       "    <tr>\n",
       "      <th>jackpot</th>\n",
       "      <td>0.0009</td>\n",
       "    </tr>\n",
       "  </tbody>\n",
       "</table>\n",
       "</div>"
      ],
      "text/plain": [
       "             count\n",
       "no_jackpot  0.9991\n",
       "jackpot     0.0009"
      ]
     },
     "execution_count": 73,
     "metadata": {},
     "output_type": "execute_result"
    }
   ],
   "source": [
    "# Setup: A fair die and two unfair dice, all of six sides with the\n",
    "# faces 1 through 6. One unfair die (Type 1) will weight 6 five\n",
    "# times more than the others (i.e. it has weight of 5 and the\n",
    "# others a weight of 1 each). The other unfair die (Type 2)\n",
    "# will weight 1 five times more than the others.\n",
    "\n",
    "fair_die = Die([1,2,3,4,5,6])\n",
    "unfair_die1 = Die([1,2,3,4,5,6])\n",
    "unfair_die1.change_weight(6, 5)\n",
    "unfair_die2 = Die([1,2,3,4,5,6])\n",
    "unfair_die2.change_weight(1, 5)\n",
    "\n",
    "# Game 1: 10,000 rolls with five fair dice.\n",
    "game1 = Game([fair_die, fair_die, fair_die, fair_die, fair_die])\n",
    "game1.play(10000)\n",
    "game1_analyzer = Analyzer(game1)\n",
    "game1_jackpot = game1_analyzer.count_jackpots()\n",
    "game1_flips = game1.results.shape[0]\n",
    "game1_freq = game1_jackpot / game1_flips\n",
    "game1_freq\n",
    "\n",
    "\n"
   ]
  },
  {
   "cell_type": "code",
   "execution_count": 74,
   "metadata": {},
   "outputs": [
    {
     "name": "stdout",
     "output_type": "stream",
     "text": [
      "      die_1  die_2  die_3  die_4  die_5\n",
      "0         1      3      3      4      4\n",
      "1         6      5      3      5      1\n",
      "2         2      3      1      6      3\n",
      "3         4      5      6      6      5\n",
      "4         1      2      2      6      6\n",
      "...     ...    ...    ...    ...    ...\n",
      "9995      3      2      6      1      1\n",
      "9996      2      6      5      5      1\n",
      "9997      4      3      2      3      6\n",
      "9998      2      1      3      3      1\n",
      "9999      5      3      4      4      6\n",
      "\n",
      "[10000 rows x 5 columns]\n"
     ]
    }
   ],
   "source": [
    "game1.show()"
   ]
  },
  {
   "cell_type": "code",
   "execution_count": 75,
   "metadata": {},
   "outputs": [
    {
     "data": {
      "text/html": [
       "<div>\n",
       "<style scoped>\n",
       "    .dataframe tbody tr th:only-of-type {\n",
       "        vertical-align: middle;\n",
       "    }\n",
       "\n",
       "    .dataframe tbody tr th {\n",
       "        vertical-align: top;\n",
       "    }\n",
       "\n",
       "    .dataframe thead th {\n",
       "        text-align: right;\n",
       "    }\n",
       "</style>\n",
       "<table border=\"1\" class=\"dataframe\">\n",
       "  <thead>\n",
       "    <tr style=\"text-align: right;\">\n",
       "      <th></th>\n",
       "      <th>count</th>\n",
       "    </tr>\n",
       "  </thead>\n",
       "  <tbody>\n",
       "    <tr>\n",
       "      <th>no_jackpot</th>\n",
       "      <td>0.9984</td>\n",
       "    </tr>\n",
       "    <tr>\n",
       "      <th>jackpot</th>\n",
       "      <td>0.0016</td>\n",
       "    </tr>\n",
       "  </tbody>\n",
       "</table>\n",
       "</div>"
      ],
      "text/plain": [
       "             count\n",
       "no_jackpot  0.9984\n",
       "jackpot     0.0016"
      ]
     },
     "execution_count": 75,
     "metadata": {},
     "output_type": "execute_result"
    }
   ],
   "source": [
    "# Game 2: 10,000 rolls with 2 unfair dice of type 1, 1 unfair dice of type 2, and the rest fair dice.\n",
    "game2 = Game([unfair_die1, unfair_die1, unfair_die2, fair_die, fair_die])\n",
    "game2.play(10000)\n",
    "game2_analyzer = Analyzer(game2)\n",
    "game2_jackpot = game2_analyzer.count_jackpots()\n",
    "game2_flips = game2.results.shape[0]\n",
    "game2_freq = game2_jackpot / game2_flips\n",
    "game2_freq"
   ]
  },
  {
   "cell_type": "code",
   "execution_count": 76,
   "metadata": {},
   "outputs": [
    {
     "name": "stdout",
     "output_type": "stream",
     "text": [
      "      die_1  die_2  die_3  die_4  die_5\n",
      "0         2      2      5      4      5\n",
      "1         5      6      1      3      4\n",
      "2         1      3      2      6      3\n",
      "3         2      3      1      6      6\n",
      "4         5      6      5      3      2\n",
      "...     ...    ...    ...    ...    ...\n",
      "9995      6      3      1      5      2\n",
      "9996      6      4      3      1      5\n",
      "9997      1      1      1      3      6\n",
      "9998      2      3      6      5      1\n",
      "9999      6      6      6      4      6\n",
      "\n",
      "[10000 rows x 5 columns]\n"
     ]
    }
   ],
   "source": [
    "game2.show()"
   ]
  },
  {
   "cell_type": "code",
   "execution_count": 77,
   "metadata": {},
   "outputs": [
    {
     "data": {
      "image/png": "[encoded data removed]",
      "text/plain": [
       "<Figure size 640x480 with 1 Axes>"
      ]
     },
     "metadata": {},
     "output_type": "display_data"
    }
   ],
   "source": [
    "game1_freq_value = game1_freq.iloc[1,0]\n",
    "game2_freq_value = game2_freq.iloc[1,0]\n",
    "\n",
    "labels = ['Game 1', 'Game 2']\n",
    "values = [game1_freq_value, game2_freq_value]\n",
    "plt.bar(labels, values)\n",
    "plt.ylabel('Relative Frequency of Jackpots')\n",
    "plt.show()"
   ]
  },
  {
   "attachments": {},
   "cell_type": "markdown",
   "metadata": {},
   "source": [
    "## Scendario 3: Letters of the Roman Alphabet"
   ]
  },
  {
   "cell_type": "code",
   "execution_count": 78,
   "metadata": {},
   "outputs": [
    {
     "name": "stdout",
     "output_type": "stream",
     "text": [
      "    die_1 die_2 die_3 die_4 die_5\n",
      "0       A     L     L     R     E\n",
      "1       S     S     N     I     R\n",
      "2       S     F     L     G     I\n",
      "3       B     A     H     Y     O\n",
      "4       U     E     W     A     O\n",
      "..    ...   ...   ...   ...   ...\n",
      "995     E     I     D     I     E\n",
      "996     D     N     T     R     A\n",
      "997     L     S     L     T     R\n",
      "998     E     N     L     M     M\n",
      "999     L     N     N     R     P\n",
      "\n",
      "[1000 rows x 5 columns]\n"
     ]
    }
   ],
   "source": [
    "#Create the alphabet dice\n",
    "alpha_die = Die(['A', 'B', 'C', 'D', 'E', 'F', 'G', 'H', 'I', 'J', 'K', 'L', 'M', 'N', 'O', 'P', 'Q', 'R', 'S', 'T', 'U', 'V', 'W', 'X', 'Y', 'Z'])\n",
    "alpha_die.change_weight('A', 8.4966)\n",
    "alpha_die.change_weight('B', 2.0720)\n",
    "alpha_die.change_weight('C', 4.5388)\n",
    "alpha_die.change_weight('D', 3.3844)\n",
    "alpha_die.change_weight('E', 11.1607)\n",
    "alpha_die.change_weight('F', 1.8121)\n",
    "alpha_die.change_weight('G', 2.4705)\n",
    "alpha_die.change_weight('H', 3.0034)\n",
    "alpha_die.change_weight('I', 7.5448)\n",
    "alpha_die.change_weight('J', 0.1965)\n",
    "alpha_die.change_weight('K', 1.1016)\n",
    "alpha_die.change_weight('L', 5.4893)\n",
    "alpha_die.change_weight('M', 3.0129)\n",
    "alpha_die.change_weight('N', 6.6544)\n",
    "alpha_die.change_weight('O', 7.1635)\n",
    "alpha_die.change_weight('P', 3.1671)\n",
    "alpha_die.change_weight('Q', 0.1962)\n",
    "alpha_die.change_weight('R', 7.5809)\n",
    "alpha_die.change_weight('S', 5.7351)\n",
    "alpha_die.change_weight('T', 6.9509)\n",
    "alpha_die.change_weight('U', 3.6308)\n",
    "alpha_die.change_weight('V', 1.0074)\n",
    "alpha_die.change_weight('W', 1.2899)\n",
    "alpha_die.change_weight('X', 0.2902)\n",
    "alpha_die.change_weight('Y', 1.7779)\n",
    "alpha_die.change_weight('Z', 0.2722)\n",
    "\n",
    "# Play a game with 5 alphabet dice and roll them 1000 times\n",
    "alpha_game = Game([alpha_die, alpha_die, alpha_die, alpha_die, alpha_die])\n",
    "alpha_game.play(1000)\n",
    "alpha_game_analyzer = Analyzer(alpha_game)\n",
    "alpha_game.show()\n",
    "\n"
   ]
  },
  {
   "cell_type": "code",
   "execution_count": 79,
   "metadata": {},
   "outputs": [],
   "source": [
    "# View results df in Data Viewer\n",
    "df = alpha_game.results"
   ]
  },
  {
   "attachments": {},
   "cell_type": "markdown",
   "metadata": {},
   "source": [
    "To see the df results in VSCode, open a new terminal (Terminal > New Terminal) and click on the \"Jupyter\" tab. Then click the box with the arrow coming out of it to the left of the variable \"df\". This will open the dataframe in Data Viewer."
   ]
  },
  {
   "cell_type": "code",
   "execution_count": 80,
   "metadata": {},
   "outputs": [
    {
     "data": {
      "image/png": "[encoded data removed]",
      "text/plain": [
       "<Figure size 640x480 with 1 Axes>"
      ]
     },
     "metadata": {},
     "output_type": "display_data"
    }
   ],
   "source": [
    "# Number of words (or close enough to words) and non-words found in results\n",
    "words = 2 #<-- Put the number of words you find that have been randomly generated here\n",
    "nonwords = 1000 - words\n",
    "\n",
    "# Calculate relative frequency of words vs the rest of the results\n",
    "words / nonwords\n",
    "\n",
    "freq_words = words / (words + nonwords)\n",
    "freq_nonwords = nonwords / (words + nonwords)\n",
    "\n",
    "labels = ['Words', 'Non-Words']\n",
    "values = [freq_words, freq_nonwords]\n",
    "plt.bar(labels, values)\n",
    "plt.ylabel('Relative Frequency of Words vs Non-Words')\n",
    "plt.show()"
   ]
  },
  {
   "attachments": {},
   "cell_type": "markdown",
   "metadata": {},
   "source": [
    "# Directory Listing"
   ]
  },
  {
   "cell_type": "code",
   "execution_count": 81,
   "metadata": {},
   "outputs": [
    {
     "name": "stdout",
     "output_type": "stream",
     "text": [
      ".:\n",
      "total 116\n",
      "-rw-r--r-- 1 vscode  1074 Apr 30 16:38 LICENSE\n",
      "drwxr-xr-x 2 vscode  4096 Apr 30 16:41 Monte_Carlo_Simulator.egg-info/\n",
      "-rw-r--r-- 1 vscode  4590 Apr 30 19:59 README.md\n",
      "-rw-r--r-- 1 vscode   228 Apr 30 16:38 compose-dev.yaml\n",
      "drwxr-xr-x 3 vscode  4096 Apr 30 16:38 mcs_pkg/\n",
      "-rw-r--r-- 1 vscode 74021 Apr 30 16:38 montecarlo_demo.ipynb\n",
      "-rw-r--r-- 1 vscode   109 Apr 30 18:11 montecarlo_tests_results.txt\n",
      "-rw-r--r-- 1 vscode   608 May  1 00:50 scratch.py\n",
      "-rw-r--r-- 1 vscode   372 Apr 30 16:38 setup.py\n",
      "drwxr-xr-x 3 vscode  4096 Apr 30 18:28 tests/\n",
      "\n",
      "./Monte_Carlo_Simulator.egg-info:\n",
      "total 20\n",
      "-rw-r--r-- 1 vscode 306 Apr 30 16:41 PKG-INFO\n",
      "-rw-r--r-- 1 vscode 320 Apr 30 16:41 SOURCES.txt\n",
      "-rw-r--r-- 1 vscode   1 Apr 30 16:41 dependency_links.txt\n",
      "-rw-r--r-- 1 vscode   7 Apr 30 16:41 requires.txt\n",
      "-rw-r--r-- 1 vscode  14 Apr 30 16:41 top_level.txt\n",
      "\n",
      "./mcs_pkg:\n",
      "total 16\n",
      "-rw-r--r-- 1 vscode  118 Apr 30 16:38 __init__.py\n",
      "drwxr-xr-x 2 vscode 4096 May  1 00:37 __pycache__/\n",
      "-rw-r--r-- 1 vscode 6431 May  1 00:32 montecarlo.py\n",
      "\n",
      "./mcs_pkg/__pycache__:\n",
      "total 12\n",
      "-rw-r--r-- 1 root  270 Apr 30 16:42 __init__.cpython-39.pyc\n",
      "-rw-r--r-- 1 root 7470 May  1 00:37 montecarlo.cpython-39.pyc\n",
      "\n",
      "./tests:\n",
      "total 12\n",
      "-rw-r--r-- 1 vscode    0 Apr 30 16:38 __init__.py\n",
      "drwxr-xr-x 2 vscode 4096 Apr 30 16:42 __pycache__/\n",
      "-rw-r--r-- 1 vscode 4501 May  1 00:35 montecarlo_tests.py\n",
      "\n",
      "./tests/__pycache__:\n",
      "total 8\n",
      "-rw-r--r-- 1 root 5010 Apr 30 16:42 test_mcs.cpython-39.pyc\n"
     ]
    }
   ],
   "source": [
    "!ls -lRF -o"
   ]
  },
  {
   "attachments": {},
   "cell_type": "markdown",
   "metadata": {},
   "source": [
    "# Installation Output Listing"
   ]
  },
  {
   "cell_type": "code",
   "execution_count": 82,
   "metadata": {},
   "outputs": [
    {
     "name": "stdout",
     "output_type": "stream",
     "text": [
      "[Errno 2] No such file or directory: 'com.docker.devenvironments.code/'\n",
      "/com.docker.devenvironments.code\n"
     ]
    }
   ],
   "source": [
    "# Make sure you're in the correct directory (same as \"setup.py\" file)\n",
    "%cd com.docker.devenvironments.code/"
   ]
  },
  {
   "cell_type": "code",
   "execution_count": 83,
   "metadata": {},
   "outputs": [
    {
     "data": {
      "text/plain": [
       "'/com.docker.devenvironments.code'"
      ]
     },
     "execution_count": 83,
     "metadata": {},
     "output_type": "execute_result"
    }
   ],
   "source": [
    "# Check working directory\n",
    "%pwd"
   ]
  },
  {
   "cell_type": "code",
   "execution_count": 59,
   "metadata": {},
   "outputs": [
    {
     "name": "stdout",
     "output_type": "stream",
     "text": [
      "Processing /com.docker.devenvironments.code\n",
      "Requirement already satisfied: pandas in /usr/local/lib/python3.9/dist-packages (from Monte-Carlo-Simulator==1.0.0) (2.0.1)\n",
      "Requirement already satisfied: numpy>=1.20.3 in /usr/local/lib/python3.9/dist-packages (from pandas->Monte-Carlo-Simulator==1.0.0) (1.24.3)\n",
      "Requirement already satisfied: tzdata>=2022.1 in /usr/local/lib/python3.9/dist-packages (from pandas->Monte-Carlo-Simulator==1.0.0) (2023.3)\n",
      "Requirement already satisfied: python-dateutil>=2.8.2 in /usr/local/lib/python3.9/dist-packages (from pandas->Monte-Carlo-Simulator==1.0.0) (2.8.2)\n",
      "Requirement already satisfied: pytz>=2020.1 in /usr/local/lib/python3.9/dist-packages (from pandas->Monte-Carlo-Simulator==1.0.0) (2023.3)\n",
      "Requirement already satisfied: six>=1.5 in /usr/local/lib/python3.9/dist-packages (from python-dateutil>=2.8.2->pandas->Monte-Carlo-Simulator==1.0.0) (1.16.0)\n",
      "Building wheels for collected packages: Monte-Carlo-Simulator\n",
      "  Building wheel for Monte-Carlo-Simulator (setup.py) ... \u001b[?25ldone\n",
      "\u001b[?25h  Created wheel for Monte-Carlo-Simulator: filename=Monte_Carlo_Simulator-1.0.0-py3-none-any.whl size=5481 sha256=26b49ac1d5686668b97317e2542ca7093420371f2eeca817e340d80d9336bbb9\n",
      "  Stored in directory: /tmp/pip-ephem-wheel-cache-1_gg9gjy/wheels/06/8d/4a/710b6c3e6d7df965a43aa3d9432bf448989baa2e26c341bd12\n",
      "Successfully built Monte-Carlo-Simulator\n",
      "Installing collected packages: Monte-Carlo-Simulator\n",
      "  Attempting uninstall: Monte-Carlo-Simulator\n",
      "    Found existing installation: Monte-Carlo-Simulator 1.0.0\n",
      "    Uninstalling Monte-Carlo-Simulator-1.0.0:\n",
      "      Successfully uninstalled Monte-Carlo-Simulator-1.0.0\n",
      "Successfully installed Monte-Carlo-Simulator-1.0.0\n",
      "Note: you may need to restart the kernel to use updated packages.\n"
     ]
    }
   ],
   "source": [
    "# Install package\n",
    "%pip install ."
   ]
  }
 ],
 "metadata": {
  "kernelspec": {
   "display_name": "base",
   "language": "python",
   "name": "python3"
  },
  "language_info": {
   "codemirror_mode": {
    "name": "ipython",
    "version": 3
   },
   "file_extension": ".py",
   "mimetype": "text/x-python",
   "name": "python",
   "nbconvert_exporter": "python",
   "pygments_lexer": "ipython3",
   "version": "3.9.2"
  },
  "orig_nbformat": 4
 },
 "nbformat": 4,
 "nbformat_minor": 2
}
